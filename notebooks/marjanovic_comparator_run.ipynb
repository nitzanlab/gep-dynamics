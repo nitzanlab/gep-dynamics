{
 "cells": [
  {
   "cell_type": "code",
   "execution_count": 1,
   "id": "f3a79132-7ab5-4015-b98f-6e16e418d8ec",
   "metadata": {},
   "outputs": [
    {
     "name": "stdout",
     "output_type": "stream",
     "text": [
      "/cs/labs/mornitzan/yotamcon/gep-dynamics\n",
      "CPU times: user 2.87 s, sys: 1.02 s, total: 3.89 s\n",
      "Wall time: 5.6 s\n"
     ]
    }
   ],
   "source": [
    "%%time\n",
    "%load_ext autoreload\n",
    "%autoreload 2\n",
    "\n",
    "# import sys\n",
    "import os\n",
    "import warnings\n",
    "\n",
    "# from urllib.request import urlretrieve\n",
    "# from argparse import Namespace\n",
    "# from importlib import reload\n",
    "\n",
    "\n",
    "# import numpy as np\n",
    "# import pandas as pd\n",
    "import scanpy as sc\n",
    "# import matplotlib.pyplot as plt\n",
    "# import seaborn as sns\n",
    "# import networkx as nx\n",
    "\n",
    "# from sklearn.decomposition import _nmf as sknmf\n",
    "from sklearn.exceptions import ConvergenceWarning\n",
    "# from scipy.stats import rankdata\n",
    "# from scipy.cluster import hierarchy\n",
    "\n",
    "from gepdynamics import _utils\n",
    "# from gepdynamics import _constants\n",
    "# from gepdynamics import cnmf\n",
    "# from gepdynamics import pfnmf\n",
    "from gepdynamics import comparator\n",
    "\n",
    "# Move to the project's home directory, as defined in _constants\n",
    "_utils.cd_proj_home()\n",
    "print(os.getcwd())"
   ]
  },
  {
   "cell_type": "code",
   "execution_count": 2,
   "id": "49f1f23f-4d6b-4f90-b8a4-09b17fbe97d5",
   "metadata": {},
   "outputs": [],
   "source": [
    "%%time\n",
    "results_dir = _utils.set_dir('results')\n",
    "\n",
    "split_adatas_dir = _utils.set_dir(results_dir.joinpath('marjanovic_mmLungPlate_split'))\n",
    "\n",
    "k_12 = sc.read_h5ad(split_adatas_dir.joinpath('04_K_12w_ND_GEPs.h5ad'))\n",
    "\n",
    "k_30 = sc.read_h5ad(split_adatas_dir.joinpath('05_K_30w_ND_GEPs.h5ad'))\n",
    "\n",
    "kp_12 = sc.read_h5ad(split_adatas_dir.joinpath('06_KP_12w_ND_GEPs.h5ad'))\n",
    "\n",
    "kp_30 = sc.read_h5ad(split_adatas_dir.joinpath('08_KP_30w_ND_GEPs.h5ad'))"
   ]
  },
  {
   "cell_type": "markdown",
   "id": "e5e07990-9c15-4d51-9ea8-d0cbd608a10c",
   "metadata": {},
   "source": [
    "### Comparing Kras 12 and 30 weeks"
   ]
  },
  {
   "cell_type": "code",
   "execution_count": 3,
   "id": "f83b3cc7-9003-485e-8c24-7ee67ce10cd9",
   "metadata": {},
   "outputs": [
    {
     "name": "stderr",
     "output_type": "stream",
     "text": [
      "/cs/labs/mornitzan/yotamcon/miniconda3/envs/pp_t/lib/python3.9/site-packages/scanpy/preprocessing/_highly_variable_genes.py:62: UserWarning: `flavor='seurat_v3'` expects raw count data, but non-integers were found.\n",
      "  warnings.warn(\n",
      "/cs/labs/mornitzan/yotamcon/miniconda3/envs/pp_t/lib/python3.9/site-packages/scanpy/preprocessing/_highly_variable_genes.py:62: UserWarning: `flavor='seurat_v3'` expects raw count data, but non-integers were found.\n",
      "  warnings.warn(\n"
     ]
    },
    {
     "name": "stdout",
     "output_type": "stream",
     "text": [
      "Extracting A GEPs on jointly highly variable genes\n",
      "Decomposing B using A GEPs and no additional GEPs\n",
      "beta 1 loss = 410355.6875, # iterations was 50\n",
      "Decomposing B de-novo\n",
      "beta 1 loss = 356439.53125, # iterations was 400\n",
      "beta 1 loss = 349817.53125, # iterations was 460\n",
      "beta 1 loss = 342226.15625, # iterations was 530\n",
      "beta 1 loss = 336116.34375, # iterations was 620\n",
      "Decomposing B using A GEPs and up to 3 additional GEPs\n",
      "Working on added rank = 1\n",
      "repeat 0, after 111 iterations reachederror =  393991.6\n",
      "repeat 1, after 93 iterations reachederror =  393974.6\n",
      "repeat 2, after 87 iterations reachederror =  393940.2\n",
      "repeat 3, after 100 iterations reachederror =  393954.2\n",
      "repeat 4, after 92 iterations reachederror =  393979.6\n",
      "repeat 5, after 103 iterations reachederror =  393944.2\n",
      "repeat 6, after 106 iterations reachederror =  393941.1\n",
      "repeat 7, after 101 iterations reachederror =  393968.3\n",
      "repeat 8, after 109 iterations reachederror =  393944.0\n",
      "repeat 9, after 95 iterations reachederror =  393966.4\n",
      "Working on added rank = 2\n",
      "repeat 0, after 199 iterations reachederror =  384356.4\n",
      "repeat 1, after 151 iterations reachederror =  384890.1\n",
      "repeat 2, after 205 iterations reachederror =  384889.5\n"
     ]
    },
    {
     "ename": "KeyboardInterrupt",
     "evalue": "",
     "output_type": "error",
     "traceback": [
      "\u001b[0;31m---------------------------------------------------------------------------\u001b[0m",
      "\u001b[0;31mKeyboardInterrupt\u001b[0m                         Traceback (most recent call last)",
      "Cell \u001b[0;32mIn[3], line 14\u001b[0m\n\u001b[1;32m     11\u001b[0m     warnings\u001b[38;5;241m.\u001b[39msimplefilter(action\u001b[38;5;241m=\u001b[39m\u001b[38;5;124m'\u001b[39m\u001b[38;5;124mignore\u001b[39m\u001b[38;5;124m'\u001b[39m, category\u001b[38;5;241m=\u001b[39mConvergenceWarning)\n\u001b[1;32m     12\u001b[0m     tst\u001b[38;5;241m.\u001b[39mextract_geps_on_jointly_hvgs()\n\u001b[0;32m---> 14\u001b[0m \u001b[43mtst\u001b[49m\u001b[38;5;241;43m.\u001b[39;49m\u001b[43mdecompose_b\u001b[49m\u001b[43m(\u001b[49m\u001b[43mrepeats\u001b[49m\u001b[38;5;241;43m=\u001b[39;49m\u001b[38;5;241;43m10\u001b[39;49m\u001b[43m)\u001b[49m\n\u001b[1;32m     16\u001b[0m tst\u001b[38;5;241m.\u001b[39mplot_loss_per_cell_histograms(show\u001b[38;5;241m=\u001b[39m\u001b[38;5;28;01mFalse\u001b[39;00m)\n\u001b[1;32m     17\u001b[0m tst\u001b[38;5;241m.\u001b[39mplot_usages_clustermaps(show\u001b[38;5;241m=\u001b[39m\u001b[38;5;28;01mFalse\u001b[39;00m)\n",
      "File \u001b[0;32m/cs/labs/mornitzan/yotamcon/gep-dynamics/gepdynamics/comparator.py:408\u001b[0m, in \u001b[0;36mComparator.decompose_b\u001b[0;34m(self, repeats)\u001b[0m\n\u001b[1;32m    406\u001b[0m \u001b[38;5;28;01mif\u001b[39;00m \u001b[38;5;28mself\u001b[39m\u001b[38;5;241m.\u001b[39mverbosity \u001b[38;5;241m>\u001b[39m \u001b[38;5;241m0\u001b[39m:\n\u001b[1;32m    407\u001b[0m     \u001b[38;5;28mprint\u001b[39m(\u001b[38;5;124mf\u001b[39m\u001b[38;5;124m'\u001b[39m\u001b[38;5;124mDecomposing B using A GEPs and up to \u001b[39m\u001b[38;5;132;01m{\u001b[39;00m\u001b[38;5;28mself\u001b[39m\u001b[38;5;241m.\u001b[39mmax_added_rank\u001b[38;5;132;01m}\u001b[39;00m\u001b[38;5;124m additional GEPs\u001b[39m\u001b[38;5;124m'\u001b[39m)\n\u001b[0;32m--> 408\u001b[0m \u001b[38;5;28;43mself\u001b[39;49m\u001b[38;5;241;43m.\u001b[39;49m\u001b[43m_decompose_b_pfnmf\u001b[49m\u001b[43m(\u001b[49m\u001b[43mX_b\u001b[49m\u001b[43m,\u001b[49m\u001b[43m \u001b[49m\u001b[43mrepeats\u001b[49m\u001b[43m)\u001b[49m\n\u001b[1;32m    410\u001b[0m \u001b[38;5;28mself\u001b[39m\u001b[38;5;241m.\u001b[39m_all_results \u001b[38;5;241m=\u001b[39m \u001b[38;5;28mself\u001b[39m\u001b[38;5;241m.\u001b[39mdenovo_results \u001b[38;5;241m+\u001b[39m [\u001b[38;5;28mself\u001b[39m\u001b[38;5;241m.\u001b[39mfnmf_result] \u001b[38;5;241m+\u001b[39m \u001b[38;5;28mself\u001b[39m\u001b[38;5;241m.\u001b[39mpfnmf_results\n\u001b[1;32m    412\u001b[0m \u001b[38;5;28mself\u001b[39m\u001b[38;5;241m.\u001b[39m_calculate_gene_coefficients()\n",
      "File \u001b[0;32m/cs/labs/mornitzan/yotamcon/gep-dynamics/gepdynamics/comparator.py:486\u001b[0m, in \u001b[0;36mComparator._decompose_b_pfnmf\u001b[0;34m(self, X_b, repeats)\u001b[0m\n\u001b[1;32m    483\u001b[0m best_loss \u001b[38;5;241m=\u001b[39m np\u001b[38;5;241m.\u001b[39minfty\n\u001b[1;32m    485\u001b[0m \u001b[38;5;28;01mfor\u001b[39;00m repeat \u001b[38;5;129;01min\u001b[39;00m \u001b[38;5;28mrange\u001b[39m(repeats):\n\u001b[0;32m--> 486\u001b[0m     w1, h1, w2, h2, n_iter \u001b[38;5;241m=\u001b[39m \u001b[43mpfnmf\u001b[49m\u001b[38;5;241;43m.\u001b[39;49m\u001b[43mpfnmf\u001b[49m\u001b[43m(\u001b[49m\n\u001b[1;32m    487\u001b[0m \u001b[43m        \u001b[49m\u001b[43mX_b\u001b[49m\u001b[38;5;241;43m.\u001b[39;49m\u001b[43mT\u001b[49m\u001b[43m,\u001b[49m\u001b[43m \u001b[49m\u001b[38;5;28;43mself\u001b[39;49m\u001b[38;5;241;43m.\u001b[39;49m\u001b[43mgeps_a\u001b[49m\u001b[38;5;241;43m.\u001b[39;49m\u001b[43mT\u001b[49m\u001b[43m,\u001b[49m\u001b[43m \u001b[49m\u001b[43mrank_2\u001b[49m\u001b[38;5;241;43m=\u001b[39;49m\u001b[43madded_rank\u001b[49m\u001b[43m,\u001b[49m\n\u001b[1;32m    488\u001b[0m \u001b[43m        \u001b[49m\u001b[43mbeta_loss\u001b[49m\u001b[38;5;241;43m=\u001b[39;49m\u001b[38;5;28;43mself\u001b[39;49m\u001b[38;5;241;43m.\u001b[39;49m\u001b[43mbeta_loss\u001b[49m\u001b[43m,\u001b[49m\u001b[43m \u001b[49m\u001b[43mtol\u001b[49m\u001b[38;5;241;43m=\u001b[39;49m\u001b[43mNMF_TOLERANCE\u001b[49m\u001b[43m,\u001b[49m\n\u001b[1;32m    489\u001b[0m \u001b[43m        \u001b[49m\u001b[43mmax_iter\u001b[49m\u001b[38;5;241;43m=\u001b[39;49m\u001b[38;5;28;43mself\u001b[39;49m\u001b[38;5;241;43m.\u001b[39;49m\u001b[43mmax_nmf_iter\u001b[49m\u001b[43m,\u001b[49m\u001b[43m \u001b[49m\u001b[43mverbose\u001b[49m\u001b[38;5;241;43m=\u001b[39;49m\u001b[43m(\u001b[49m\u001b[38;5;28;43mself\u001b[39;49m\u001b[38;5;241;43m.\u001b[39;49m\u001b[43mverbosity\u001b[49m\u001b[43m \u001b[49m\u001b[38;5;241;43m>\u001b[39;49m\u001b[43m \u001b[49m\u001b[38;5;241;43m1\u001b[39;49m\u001b[43m)\u001b[49m\u001b[43m)\u001b[49m\n\u001b[1;32m    491\u001b[0m     loss_per_cell \u001b[38;5;241m=\u001b[39m pfnmf\u001b[38;5;241m.\u001b[39mcalc_beta_divergence(\n\u001b[1;32m    492\u001b[0m         X_b\u001b[38;5;241m.\u001b[39mT, w1, w2, h1, h2, \u001b[38;5;28mself\u001b[39m\u001b[38;5;241m.\u001b[39mbeta_loss, per_column\u001b[38;5;241m=\u001b[39m\u001b[38;5;28;01mTrue\u001b[39;00m)\n\u001b[1;32m    494\u001b[0m     final_loss \u001b[38;5;241m=\u001b[39m np\u001b[38;5;241m.\u001b[39msum(loss_per_cell)\n",
      "File \u001b[0;32m/cs/labs/mornitzan/yotamcon/gep-dynamics/gepdynamics/pfnmf.py:213\u001b[0m, in \u001b[0;36mpfnmf\u001b[0;34m(X, w1, h1, w2, h2, rank_2, beta_loss, tol, max_iter, verbose, random_state)\u001b[0m\n\u001b[1;32m    209\u001b[0m     w2 \u001b[38;5;241m=\u001b[39m w2 \u001b[38;5;241m*\u001b[39m (X \u001b[38;5;241m@\u001b[39m h2\u001b[38;5;241m.\u001b[39mT) \u001b[38;5;241m/\u001b[39m (approx \u001b[38;5;241m@\u001b[39m h2\u001b[38;5;241m.\u001b[39mT)\n\u001b[1;32m    210\u001b[0m     \u001b[38;5;66;03m# if w1_update:\u001b[39;00m\n\u001b[1;32m    211\u001b[0m     \u001b[38;5;66;03m#     w1 = w1 * (X @ h1.T) / (approx @ h1.T)\u001b[39;00m\n\u001b[0;32m--> 213\u001b[0m error \u001b[38;5;241m=\u001b[39m \u001b[43mcalc_error\u001b[49m\u001b[43m(\u001b[49m\u001b[43mw1\u001b[49m\u001b[43m,\u001b[49m\u001b[43m \u001b[49m\u001b[43mw2\u001b[49m\u001b[43m,\u001b[49m\u001b[43m \u001b[49m\u001b[43mh1\u001b[49m\u001b[43m,\u001b[49m\u001b[43m \u001b[49m\u001b[43mh2\u001b[49m\u001b[43m)\u001b[49m\n\u001b[1;32m    215\u001b[0m \u001b[38;5;66;03m# Making sure the loss is non-increasing\u001b[39;00m\n\u001b[1;32m    216\u001b[0m \u001b[38;5;28;01mif\u001b[39;00m previous_error \u001b[38;5;241m<\u001b[39m error:\n",
      "File \u001b[0;32m/cs/labs/mornitzan/yotamcon/gep-dynamics/gepdynamics/pfnmf.py:176\u001b[0m, in \u001b[0;36mpfnmf.<locals>.calc_error\u001b[0;34m(w_1, w_2, h_1, h_2)\u001b[0m\n\u001b[1;32m    174\u001b[0m \u001b[38;5;28;01mdef\u001b[39;00m \u001b[38;5;21mcalc_error\u001b[39m(w_1, w_2, h_1, h_2) \u001b[38;5;241m-\u001b[39m\u001b[38;5;241m>\u001b[39m \u001b[38;5;28mfloat\u001b[39m:\n\u001b[1;32m    175\u001b[0m \u001b[38;5;250m    \u001b[39m\u001b[38;5;124;03m'''Calculate the error according to the beta loss and X'''\u001b[39;00m\n\u001b[0;32m--> 176\u001b[0m     \u001b[38;5;28;01mreturn\u001b[39;00m \u001b[43mcalc_beta_divergence\u001b[49m\u001b[43m(\u001b[49m\u001b[43mX\u001b[49m\u001b[43m,\u001b[49m\u001b[43m \u001b[49m\u001b[43mw_1\u001b[49m\u001b[43m,\u001b[49m\u001b[43m \u001b[49m\u001b[43mw_2\u001b[49m\u001b[43m,\u001b[49m\u001b[43m \u001b[49m\u001b[43mh_1\u001b[49m\u001b[43m,\u001b[49m\u001b[43m \u001b[49m\u001b[43mh_2\u001b[49m\u001b[43m,\u001b[49m\u001b[43m \u001b[49m\u001b[43mbeta_loss\u001b[49m\u001b[43m)\u001b[49m\n",
      "File \u001b[0;32m/cs/labs/mornitzan/yotamcon/gep-dynamics/gepdynamics/pfnmf.py:83\u001b[0m, in \u001b[0;36mcalc_beta_divergence\u001b[0;34m(X, w_1, w_2, h_1, h_2, beta_loss, square_root, per_column)\u001b[0m\n\u001b[1;32m     80\u001b[0m H \u001b[38;5;241m=\u001b[39m np\u001b[38;5;241m.\u001b[39mconcatenate([h_1, h_2], axis\u001b[38;5;241m=\u001b[39m\u001b[38;5;241m0\u001b[39m)\n\u001b[1;32m     82\u001b[0m \u001b[38;5;28;01mif\u001b[39;00m \u001b[38;5;129;01mnot\u001b[39;00m per_column:\n\u001b[0;32m---> 83\u001b[0m     \u001b[38;5;28;01mreturn\u001b[39;00m \u001b[43msknmf\u001b[49m\u001b[38;5;241;43m.\u001b[39;49m\u001b[43m_beta_divergence\u001b[49m\u001b[43m(\u001b[49m\u001b[43mX\u001b[49m\u001b[43m,\u001b[49m\u001b[43m \u001b[49m\u001b[43mW\u001b[49m\u001b[43m,\u001b[49m\u001b[43m \u001b[49m\u001b[43mH\u001b[49m\u001b[43m,\u001b[49m\u001b[43m \u001b[49m\u001b[43mbeta\u001b[49m\u001b[38;5;241;43m=\u001b[39;49m\u001b[43mbeta_loss\u001b[49m\u001b[43m,\u001b[49m\u001b[43m \u001b[49m\u001b[43msquare_root\u001b[49m\u001b[38;5;241;43m=\u001b[39;49m\u001b[43msquare_root\u001b[49m\u001b[43m)\u001b[49m\n\u001b[1;32m     84\u001b[0m \u001b[38;5;28;01melse\u001b[39;00m:\n\u001b[1;32m     85\u001b[0m     result \u001b[38;5;241m=\u001b[39m np\u001b[38;5;241m.\u001b[39mfull((X\u001b[38;5;241m.\u001b[39mshape[\u001b[38;5;241m1\u001b[39m]), np\u001b[38;5;241m.\u001b[39minf)\n",
      "File \u001b[0;32m/cs/labs/mornitzan/yotamcon/miniconda3/envs/pp_t/lib/python3.9/site-packages/sklearn/decomposition/_nmf.py:151\u001b[0m, in \u001b[0;36m_beta_divergence\u001b[0;34m(X, W, H, beta, square_root)\u001b[0m\n\u001b[1;32m    149\u001b[0m \u001b[38;5;66;03m# computes np.sum(X * log(X / WH)) only where X is nonzero\u001b[39;00m\n\u001b[1;32m    150\u001b[0m div \u001b[38;5;241m=\u001b[39m X_data \u001b[38;5;241m/\u001b[39m WH_data\n\u001b[0;32m--> 151\u001b[0m res \u001b[38;5;241m=\u001b[39m np\u001b[38;5;241m.\u001b[39mdot(X_data, \u001b[43mnp\u001b[49m\u001b[38;5;241;43m.\u001b[39;49m\u001b[43mlog\u001b[49m\u001b[43m(\u001b[49m\u001b[43mdiv\u001b[49m\u001b[43m)\u001b[49m)\n\u001b[1;32m    152\u001b[0m \u001b[38;5;66;03m# add full np.sum(np.dot(W, H)) - np.sum(X)\u001b[39;00m\n\u001b[1;32m    153\u001b[0m res \u001b[38;5;241m+\u001b[39m\u001b[38;5;241m=\u001b[39m sum_WH \u001b[38;5;241m-\u001b[39m X_data\u001b[38;5;241m.\u001b[39msum()\n",
      "\u001b[0;31mKeyboardInterrupt\u001b[0m: "
     ]
    }
   ],
   "source": [
    "\n",
    "adata_a = k_12\n",
    "adata_b = k_30\n",
    "\n",
    "comparison_dir = results_dir.joinpath(f\"{adata_a.uns['sname']}_{adata_b.uns['sname']}\")\n",
    "\n",
    "tst = comparator.Comparator(\n",
    "    adata_a, adata_a.obsm['usages'], adata_b, comparison_dir, 'torchnmf',\n",
    "    max_nmf_iter=800, verbosity=1, )\n",
    "\n",
    "with warnings.catch_warnings():  # supress convergence warning\n",
    "    warnings.simplefilter(action='ignore', category=ConvergenceWarning)\n",
    "    tst.extract_geps_on_jointly_hvgs()\n",
    "\n",
    "tst.decompose_b(repeats=10)\n",
    "\n",
    "tst.plot_loss_per_cell_histograms(show=False)\n",
    "tst.plot_usages_clustermaps(show=False)\n",
    "tst.plot_decomposition_comparisons(show=False)\n",
    "tst.run_gsea(gprofiler_kwargs=dict(organism='hsapiens', sources=['GO:BP', 'WP', 'REAC', 'KEGG']))\n",
    "\n",
    "tst.calculate_fingerprints()\n",
    "\n",
    "tst.print_errors()\n",
    "\n",
    "tst.save_to_file(comparison_dir.joinpath('comparator.npz'))"
   ]
  }
 ],
 "metadata": {
  "jupytext": {
   "formats": "ipynb,auto:percent"
  },
  "kernelspec": {
   "display_name": "Python 3 (ipykernel)",
   "language": "python",
   "name": "python3"
  },
  "language_info": {
   "codemirror_mode": {
    "name": "ipython",
    "version": 3
   },
   "file_extension": ".py",
   "mimetype": "text/x-python",
   "name": "python",
   "nbconvert_exporter": "python",
   "pygments_lexer": "ipython3",
   "version": "3.9.15"
  }
 },
 "nbformat": 4,
 "nbformat_minor": 5
}
