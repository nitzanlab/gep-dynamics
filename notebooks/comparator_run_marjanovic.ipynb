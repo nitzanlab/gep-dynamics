{
 "cells": [
  {
   "cell_type": "markdown",
   "id": "0462649b-3fc4-4489-9b89-5f364add4f7e",
   "metadata": {},
   "source": [
    "# Running the comparator between Marjanovic et. al. time points"
   ]
  },
  {
   "cell_type": "code",
   "execution_count": 2,
   "id": "f3a79132-7ab5-4015-b98f-6e16e418d8ec",
   "metadata": {},
   "source": [
    "%%time\n",
    "%load_ext autoreload\n",
    "%autoreload 2\n",
    "\n",
    "# import sys\n",
    "import os\n",
    "import warnings\n",
    "\n",
    "# from urllib.request import urlretrieve\n",
    "# from argparse import Namespace\n",
    "# from importlib import reload\n",
    "\n",
    "\n",
    "# import numpy as np\n",
    "# import pandas as pd\n",
    "import scanpy as sc\n",
    "# import matplotlib.pyplot as plt\n",
    "# import seaborn as sns\n",
    "# import networkx as nx\n",
    "\n",
    "# from sklearn.decomposition import _nmf as sknmf\n",
    "from sklearn.exceptions import ConvergenceWarning\n",
    "# from scipy.stats import rankdata\n",
    "# from scipy.cluster import hierarchy\n",
    "\n",
    "from gepdynamics import _utils\n",
    "# from gepdynamics import _constants\n",
    "# from gepdynamics import cnmf\n",
    "# from gepdynamics import pfnmf\n",
    "from gepdynamics import comparator\n",
    "\n",
    "# Move to the project's home directory, as defined in _constants\n",
    "_utils.cd_proj_home()\n",
    "print(os.getcwd())"
   ],
   "outputs": []
  },
  {
   "cell_type": "code",
   "execution_count": 3,
   "id": "49f1f23f-4d6b-4f90-b8a4-09b17fbe97d5",
   "metadata": {},
   "source": [
    "%%time\n",
    "results_dir = _utils.set_dir('results')\n",
    "\n",
    "split_adatas_dir = _utils.set_dir(results_dir.joinpath('marjanovic_mmLungPlate_split'))\n",
    "\n",
    "k_12 = sc.read_h5ad(split_adatas_dir.joinpath('04_K_12w_ND_GEPs.h5ad'))\n",
    "\n",
    "k_30 = sc.read_h5ad(split_adatas_dir.joinpath('05_K_30w_ND_GEPs.h5ad'))\n",
    "\n",
    "kp_12 = sc.read_h5ad(split_adatas_dir.joinpath('06_KP_12w_ND_GEPs.h5ad'))\n",
    "\n",
    "kp_30 = sc.read_h5ad(split_adatas_dir.joinpath('08_KP_30w_ND_GEPs.h5ad'))"
   ],
   "outputs": []
  },
  {
   "cell_type": "markdown",
   "id": "e5e07990-9c15-4d51-9ea8-d0cbd608a10c",
   "metadata": {},
   "source": [
    "### Comparing Kras 12 and 30 weeks"
   ]
  },
  {
   "cell_type": "code",
   "execution_count": 7,
   "id": "ed568beb-5dda-44de-9060-f183d1fe9ee3",
   "metadata": {},
   "source": [
    "import numpy as np\n",
    "def load_from_file(filename: _utils.PathLike, adata_a: sc.AnnData, adata_b: sc.AnnData) -> 'Comparator':\n",
    "    # make sure the file exists\n",
    "    assert os.path.exists(filename), f'File {filename} does not exist'\n",
    "\n",
    "    new_instance = np.load(filename, allow_pickle=True)['obj'].item()\n",
    "\n",
    "    new_instance.adata_a = adata_a\n",
    "    new_instance.adata_b = adata_b\n",
    "    return new_instance"
   ],
   "outputs": []
  },
  {
   "cell_type": "code",
   "execution_count": 5,
   "id": "f83b3cc7-9003-485e-8c24-7ee67ce10cd9",
   "metadata": {},
   "source": [
    "\n",
    "pairs = [(k_12, k_30), (k_30, k_12), (kp_12, kp_30), (kp_30, kp_12), (k_12, kp_12), (k_30, kp_30)]\n",
    "\n",
    "for adata_a, adata_b in pairs:\n",
    "    comparison_dir = results_dir.joinpath(f\"{adata_a.uns['sname']}_{adata_b.uns['sname']}\")\n",
    "\n",
    "    tst = comparator.Comparator(\n",
    "        adata_a, adata_a.obsm['usages'], adata_b, comparison_dir, 'torchnmf',\n",
    "        max_nmf_iter=800, verbosity=1, )\n",
    "\n",
    "    with warnings.catch_warnings():  # supress convergence warning\n",
    "        warnings.simplefilter(action='ignore', category=ConvergenceWarning)\n",
    "        tst.extract_geps_on_jointly_hvgs()\n",
    "\n",
    "    tst.decompose_b(repeats=10)\n",
    "\n",
    "    tst.plot_loss_per_cell_histograms(show=False)\n",
    "    tst.plot_usages_clustermaps(show=False)\n",
    "    tst.plot_decomposition_comparisons(show=False)\n",
    "    tst.run_gsea(gprofiler_kwargs=dict(organism='hsapiens', sources=['GO:BP', 'WP', 'REAC', 'KEGG']))\n",
    "\n",
    "    tst.calculate_fingerprints()\n",
    "\n",
    "    tst.print_errors()\n",
    "\n",
    "    tst.save_to_file(comparison_dir.joinpath('comparator.npz'))"
   ],
   "outputs": []
  },
  {
   "cell_type": "code",
   "execution_count": 13,
   "id": "6d3d927a-6433-4577-a1b1-784eabe1a670",
   "metadata": {},
   "source": [
    "for adata_a, adata_b in [(k_12, k_30), (k_30, k_12), (k_12, kp_12),\n",
    "                         (k_30, kp_30), (kp_12, kp_30), (kp_30, kp_12)]:\n",
    "    comparison_dir = results_dir.joinpath(f\"{adata_a.uns['sname']}_{adata_b.uns['sname']}\", 'comparator.npz')\n",
    "    \n",
    "    tst = comparator.Comparator.load_from_file(comparison_dir, adata_a, adata_b)\n",
    "    for res in tst._all_results:\n",
    "        res.calculate_prog_labels()\n",
    "    tst.a_result.calculate_prog_labels()\n",
    "    \n",
    "    tst.save_to_file(comparison_dir)"
   ],
   "outputs": []
  }
 ],
 "metadata": {
  "jupytext": {
   "formats": "ipynb,py:percent"
  },
  "kernelspec": {
   "display_name": "Python 3 (ipykernel)",
   "language": "python",
   "name": "python3"
  },
  "language_info": {
   "codemirror_mode": {
    "name": "ipython",
    "version": 3
   },
   "file_extension": ".py",
   "mimetype": "text/x-python",
   "name": "python",
   "nbconvert_exporter": "python",
   "pygments_lexer": "ipython3",
   "version": "3.9.15"
  }
 },
 "nbformat": 4,
 "nbformat_minor": 5
}
