{
 "cells": [
  {
   "cell_type": "markdown",
   "id": "77cfdd7c-24da-4cc1-bba9-54aa171a24c4",
   "metadata": {},
   "source": [
    "# Downloading and pre-processing Yang et. al 2022 data"
   ]
  },
  {
   "cell_type": "code",
   "execution_count": 1,
   "id": "44a6c039-5977-4b13-9c37-83e06f8109d7",
   "metadata": {
    "lines_to_next_cell": 2
   },
   "outputs": [
    {
     "name": "stdout",
     "output_type": "stream",
     "text": [
      "/cs/labs/mornitzan/yotamcon/gep-dynamics/notebooks\n"
     ]
    }
   ],
   "source": [
    "%load_ext autoreload\n",
    "%autoreload 2\n",
    "\n",
    "import sys\n",
    "import os\n",
    "import tarfile\n",
    "from urllib.request import urlretrieve\n",
    "\n",
    "\n",
    "import numpy as np\n",
    "import pandas as pd\n",
    "import scanpy as sc\n",
    "\n",
    "from gepdynamics import _utils\n",
    "\n",
    "\n",
    "# Move to the project's home directory, as defined in _constants\n",
    "_utils.cd_proj_home()\n",
    "print(os.getcwd())"
   ]
  },
  {
   "cell_type": "code",
   "execution_count": 35,
   "id": "e1e4fdc7-3115-498f-91d6-bc957fb4e9b3",
   "metadata": {
    "lines_to_next_cell": 2
   },
   "outputs": [],
   "source": [
    "data_dir = _utils.set_dir('data')\n",
    "orig_adata_path = data_dir.joinpath('adata_processed.nt.h5ad')\n",
    "\n",
    "if not orig_adata_path.exists():\n",
    "    f_tar = data_dir.joinpath('KPTracer-Data.tar.gz')\n",
    "    \n",
    "    if not f_tar.exists():\n",
    "        ftp_address = 'https://zenodo.org/record/5847462/files/KPTracer-Data.tar.gz?download=1'\n",
    "        urlretrieve(ftp_address, f_tar)\n",
    "\n",
    "    f = tarfile.open(f_tar)\n",
    "    adata_tar_path = 'KPTracer-Data/expression/adata_processed.nt.h5ad'\n",
    "    f.extract(adata_tar_path, data_dir)\n",
    "    os.rename(data_dir.joinpath(adata_tar_path), orig_adata_path)"
   ]
  },
  {
   "cell_type": "code",
   "execution_count": 36,
   "id": "d5ccd566-81f1-4eec-8b3a-cfef3d41a4a4",
   "metadata": {
    "lines_to_next_cell": 2
   },
   "outputs": [
    {
     "name": "stdout",
     "output_type": "stream",
     "text": [
      "adata_processed.nt.h5ad\t\t\t  KPTracer-Data\n",
      "GSE154989\t\t\t\t  KPTracer-Data.tar.gz\n",
      "GSE154989_mmLungPlate_fQC_dSp_normTPM.h5\n"
     ]
    }
   ],
   "source": [
    "!ls data"
   ]
  },
  {
   "cell_type": "code",
   "execution_count": 32,
   "id": "11c39130-d08d-45e8-b5a6-d9d7f0e9da79",
   "metadata": {},
   "outputs": [
    {
     "data": {
      "text/plain": [
       "['TS_Present',\n",
       " 'RNA_Present',\n",
       " 'MULTI',\n",
       " 'TS_UMI',\n",
       " 'NUM_INTBC',\n",
       " 'Lane',\n",
       " 'Tumor',\n",
       " 'SubTumor',\n",
       " 'ES_clone',\n",
       " 'genotype',\n",
       " 'Aging_time',\n",
       " 'Mouse',\n",
       " 'Aging_Month',\n",
       " 'Batch_Library',\n",
       " 'Batch_Harvest',\n",
       " 'Aging_Time',\n",
       " 'MetFamily',\n",
       " 'lentiBC',\n",
       " 'is_normal',\n",
       " 'PercentUncut',\n",
       " 'leiden',\n",
       " 'n_counts',\n",
       " 'leiden_sub',\n",
       " 'Cluster-Name']"
      ]
     },
     "execution_count": 32,
     "metadata": {},
     "output_type": "execute_result"
    }
   ],
   "source": [
    "adata_nt.obs_keys()"
   ]
  }
 ],
 "metadata": {
  "jupytext": {
   "formats": "ipynb,py:percent"
  },
  "kernelspec": {
   "display_name": "Python 3 (ipykernel)",
   "language": "python",
   "name": "python3"
  },
  "language_info": {
   "codemirror_mode": {
    "name": "ipython",
    "version": 3
   },
   "file_extension": ".py",
   "mimetype": "text/x-python",
   "name": "python",
   "nbconvert_exporter": "python",
   "pygments_lexer": "ipython3",
   "version": "3.9.15"
  }
 },
 "nbformat": 4,
 "nbformat_minor": 5
}
