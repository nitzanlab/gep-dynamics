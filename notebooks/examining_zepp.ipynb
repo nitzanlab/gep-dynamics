{
 "cells": [
  {
   "cell_type": "code",
   "execution_count": 1,
   "id": "initial_id",
   "metadata": {
    "ExecuteTime": {
     "end_time": "2024-03-28T09:19:46.930209Z",
     "start_time": "2024-03-28T09:18:59.961527Z"
    },
    "collapsed": true,
    "lines_to_next_cell": 0
   },
   "outputs": [
    {
     "name": "stdout",
     "output_type": "stream",
     "text": [
      "/Users/yotamcon/projects/gep-dynamics\n",
      "CPU times: user 8.67 s, sys: 1.73 s, total: 10.4 s\n",
      "Wall time: 46.9 s\n"
     ]
    }
   ],
   "source": [
    "%%time\n",
    "%load_ext autoreload\n",
    "%autoreload 2\n",
    "\n",
    "#debug:\n",
    "from importlib import reload\n",
    "\n",
    "import sys\n",
    "import os\n",
    "import time\n",
    "import warnings\n",
    "\n",
    "import numpy as np\n",
    "# import pandas as pd\n",
    "# from scipy import sparse\n",
    "# from sklearn.metrics import silhouette_samples\n",
    "# import matplotlib.pyplot as plt\n",
    "# import scanpy as sc\n",
    "\n",
    "# sc.settings.n_jobs=-1\n",
    "\n",
    "from gepdynamics import _utils, _constants, cnmf, pfnmf, comparator, plotting\n",
    "\n",
    "_utils.cd_proj_home()\n",
    "print(os.getcwd())\n"
   ]
  },
  {
   "cell_type": "code",
   "id": "a0791f8912ee76c5",
   "metadata": {
    "collapsed": false,
    "lines_to_next_cell": 2
   },
   "outputs": [],
   "source": []
  }
 ],
 "metadata": {
  "jupytext": {
   "formats": "ipynb,py"
  },
  "kernelspec": {
   "display_name": "Python 3",
   "language": "python",
   "name": "python3"
  },
  "language_info": {
   "codemirror_mode": {
    "name": "ipython",
    "version": 2
   },
   "file_extension": ".py",
   "mimetype": "text/x-python",
   "name": "python",
   "nbconvert_exporter": "python",
   "pygments_lexer": "ipython2",
   "version": "2.7.6"
  }
 },
 "nbformat": 4,
 "nbformat_minor": 5
}
