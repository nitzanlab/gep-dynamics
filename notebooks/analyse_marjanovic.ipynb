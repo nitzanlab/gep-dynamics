{
 "cells": [
  {
   "cell_type": "markdown",
   "id": "6734bf1c",
   "metadata": {},
   "source": [
    "Some text"
   ]
  },
  {
   "cell_type": "code",
   "execution_count": 4,
   "id": "5f0c56ed",
   "metadata": {},
   "outputs": [
    {
     "name": "stdout",
     "output_type": "stream",
     "text": [
      "['/Users/yotamcon/projects/gep-dynamics/notebooks', '/Users/yotamcon/projects/gep-dynamics', '/Applications/miniconda3/envs/gep-dynamics/lib/python39.zip', '/Applications/miniconda3/envs/gep-dynamics/lib/python3.9', '/Applications/miniconda3/envs/gep-dynamics/lib/python3.9/lib-dynload', '', '/Applications/miniconda3/envs/gep-dynamics/lib/python3.9/site-packages']\n"
     ]
    }
   ],
   "source": [
    "import sys\n",
    "import os\n",
    "print(sys.path)"
   ]
  },
  {
   "cell_type": "code",
   "execution_count": 5,
   "id": "a4467249",
   "metadata": {
    "collapsed": false
   },
   "outputs": [],
   "source": [
    "a = 1"
   ]
  },
  {
   "cell_type": "code",
   "execution_count": null,
   "id": "5929d4ad",
   "metadata": {
    "collapsed": false
   },
   "outputs": [],
   "source": []
  }
 ],
 "metadata": {
  "jupytext": {
   "cell_metadata_filter": "-all",
   "formats": "ipynb,py:percent",
   "main_language": "python"
  }
 },
 "nbformat": 4,
 "nbformat_minor": 5
}
