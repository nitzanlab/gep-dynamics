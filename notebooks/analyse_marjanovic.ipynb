{
 "cells": [
  {
   "cell_type": "markdown",
   "id": "6734bf1c",
   "metadata": {},
   "source": [
    "# Downloading and pre-processing marjanovic et. al 2020 data"
   ]
  },
  {
   "cell_type": "code",
   "execution_count": 1,
   "id": "5f0c56ed",
   "metadata": {},
   "outputs": [
    {
     "name": "stdout",
     "output_type": "stream",
     "text": [
      "/cs/labs/mornitzan/yotamcon/gep-dynamics/notebooks\n"
     ]
    }
   ],
   "source": [
    "%load_ext autoreload\n",
    "%autoreload 2\n",
    "\n",
    "import sys\n",
    "import os\n",
    "from urllib.request import urlretrieve\n",
    "\n",
    "import numpy as np\n",
    "import pandas as pd\n",
    "import scanpy as sc\n",
    "\n",
    "from gepdynamics import _utils\n",
    "\n",
    "\n",
    "print(os.getcwd())\n",
    "os.chdir('/cs/labs/mornitzan/yotamcon/gep-dynamics')\n"
   ]
  },
  {
   "cell_type": "code",
   "execution_count": 2,
   "id": "ef682075-aae7-4068-8abf-a0e46ee7d4b8",
   "metadata": {
    "lines_to_next_cell": 2
   },
   "outputs": [
    {
     "data": {
      "text/plain": [
       "AnnData object with n_obs × n_vars = 3891 × 52638\n",
       "    obs: 'plateID', 'mouseID', 'timesimple', 'typeID', 'clusterK12'\n",
       "    var: 'ensgID', 'geneSymbol', 'length'\n",
       "    obsm: 'X_phate', 'X_tsne'"
      ]
     },
     "execution_count": 2,
     "metadata": {},
     "output_type": "execute_result"
    }
   ],
   "source": [
    "results_dir = _utils.set_dir('results')\n",
    "orig_adata_path = results_dir.joinpath('marjanovic_mmLungPlate.h5ad')\n",
    "\n",
    "if not orig_adata_path.exists():  # create the original adata if it doesn't exist\n",
    "    # directories for file download:\n",
    "    data_dir = _utils.set_dir('data')\n",
    "    GSE_dir = _utils.set_dir(data_dir.joinpath('GSE154989'))\n",
    "    \n",
    "    # GEO server prefix for mmLungPlate SubSeries GSE154989\n",
    "    ftp_address = 'https://ftp.ncbi.nlm.nih.gov/geo/series/GSE154nnn/GSE154989/suppl/'\n",
    "\n",
    "    #filenames\n",
    "    f_rawCount = GSE_dir.joinpath('GSE154989_mmLungPlate_fQC_dSp_rawCount.h5')\n",
    "    f_geneTable = GSE_dir.joinpath('GSE154989_mmLungPlate_fQC_geneTable.csv.gz')\n",
    "    f_smpTable = GSE_dir.joinpath('GSE154989_mmLungPlate_fQC_smpTable.csv.gz')\n",
    "    f_smp_annot = GSE_dir.joinpath('GSE154989_mmLungPlate_fQC_dZ_annot_smpTable.csv.gz')\n",
    "\n",
    "    ftp_address = 'https://ftp.ncbi.nlm.nih.gov/geo/series/GSE154nnn/GSE154989/suppl/'\n",
    "\n",
    "    # downloading if needed:\n",
    "    if not f_rawCount.exists():\n",
    "        urlretrieve(ftp_address + f_rawCount.name, f_rawCount)\n",
    "    \n",
    "    if not f_geneTable.exists():\n",
    "        urlretrieve(ftp_address + f_geneTable.name, f_geneTable)\n",
    "    \n",
    "    if not f_smpTable.exists():\n",
    "        urlretrieve(ftp_address + f_smpTable.name, f_smpTable)\n",
    "    \n",
    "    if not f_smp_annot.exists():\n",
    "        urlretrieve(ftp_address + f_smp_annot.name, f_smp_annot)\n",
    "    \n",
    "    # reading the files\n",
    "    sparse_counts = _utils.read_matlab_h5_sparse(f_rawCount)\n",
    "    \n",
    "    gene_ids = pd.read_csv(f_geneTable, index_col=0)\n",
    "    smp_ids = pd.read_csv(f_smpTable, index_col=0)\n",
    "    smp_annotation = pd.read_csv(f_smp_annot, index_col=0)\n",
    "    \n",
    "    # constructing the adata\n",
    "    adata = sc.AnnData(X=sparse_counts, dtype=np.float64, var=gene_ids, obs=smp_ids)\n",
    "    \n",
    "    adata.obs['clusterK12'] = smp_annotation.clusterK12\n",
    "    \n",
    "    adata.obsm['X_tsne'] = smp_annotation[['tSNE_1', 'tSNE_2']].values\n",
    "    adata.obsm['X_phate'] = smp_annotation[['phate_1', 'phate_2']].values\n",
    "    adata.write(orig_adata_path)\n",
    "else:\n",
    "    adata = sc.read(orig_adata_path)\n",
    "\n",
    "adata"
   ]
  },
  {
   "cell_type": "code",
   "execution_count": 4,
   "id": "a4467249",
   "metadata": {
    "collapsed": false,
    "jupyter": {
     "outputs_hidden": false
    }
   },
   "outputs": [
    {
     "data": {
      "text/plain": [
       "['plateID', 'mouseID', 'timesimple', 'typeID', 'clusterK12']"
      ]
     },
     "execution_count": 4,
     "metadata": {},
     "output_type": "execute_result"
    }
   ],
   "source": [
    "adata.obs_keys()"
   ]
  },
  {
   "cell_type": "code",
   "execution_count": 9,
   "id": "b55640b3-6a95-4f87-ad24-c4da4894d8ad",
   "metadata": {},
   "outputs": [
    {
     "data": {
      "text/plain": [
       "08_KP_30w_ND         1554\n",
       "07_KP_20w_ND          538\n",
       "05_K_30w_ND           505\n",
       "06_KP_12w_ND          491\n",
       "04_K_12w_ND           455\n",
       "01_T_early_ND         206\n",
       "02_KorKP_early_ND     142\n",
       "Name: timesimple, dtype: int64"
      ]
     },
     "execution_count": 9,
     "metadata": {},
     "output_type": "execute_result"
    }
   ],
   "source": [
    "adata.obs.timesimple.value_counts()"
   ]
  }
 ],
 "metadata": {
  "jupytext": {
   "cell_metadata_filter": "-all",
   "formats": "ipynb,py:percent"
  },
  "kernelspec": {
   "display_name": "Python 3 (ipykernel)",
   "language": "python",
   "name": "python3"
  },
  "language_info": {
   "codemirror_mode": {
    "name": "ipython",
    "version": 3
   },
   "file_extension": ".py",
   "mimetype": "text/x-python",
   "name": "python",
   "nbconvert_exporter": "python",
   "pygments_lexer": "ipython3",
   "version": "3.9.15"
  }
 },
 "nbformat": 4,
 "nbformat_minor": 5
}
